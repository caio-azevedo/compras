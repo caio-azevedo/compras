{
  "nbformat": 4,
  "nbformat_minor": 0,
  "metadata": {
    "colab": {
      "provenance": [],
      "toc_visible": true,
      "include_colab_link": true
    },
    "kernelspec": {
      "name": "python3",
      "display_name": "Python 3"
    }
  },
  "cells": [
    {
      "cell_type": "markdown",
      "metadata": {
        "id": "view-in-github",
        "colab_type": "text"
      },
      "source": [
        "<a href=\"https://colab.research.google.com/github/caio-azevedo/compras/blob/main/Cluster.ipynb\" target=\"_parent\"><img src=\"https://colab.research.google.com/assets/colab-badge.svg\" alt=\"Open In Colab\"/></a>"
      ]
    },
    {
      "cell_type": "markdown",
      "metadata": {
        "id": "Hdpy2kzk8Zbt"
      },
      "source": [
        "## PPGE/UFPB\n",
        "### Ciência de Dados com Python\n",
        "------\n",
        "**Professores:** Aléssio Almeida, Hilton Martins\n",
        "\n",
        "**Semestre Letivo**: 2019.2\n",
        "\n",
        "**Alunos**: Caio Azevedo, Guilherme Carvalho, Renata Figueiredo.\n",
        "\n",
        "---\n",
        "# Análise de *Clusters*\n",
        "---\n",
        "## 1. Introdução\n",
        "\n",
        "### O que é?\n",
        "Em linhas gerais, a Análise de *Clusters* (Aglomerado) consiste em uma técnica de procedimentos exploratórios que busca descobrir agrupamentos naturais de indivíduos (ou variáveis) a partir dos dados observados, agrupando-os com base na similaridade ou distâncias (dissimilaridades). Sendo uma técnica de aprendizagem descritiva e não supervisionada\n",
        "\n",
        "### Quando usar?\n",
        "Quando a preocupação principal é dividir os elementos em grupos, de forma que os elementos de um mesmo grupo sejam homogêneos e os elementos em grupos diferentes sejam heterogêneos.\n",
        "\n",
        "\n",
        "### Por que agrupar elementos?\n",
        "Agrupamentos podem fornecer um significado informal para avaliar a dimensionalidade, além de identificar *outliers* e sugerir hipóteses acerca da estrutura de relações dos dados.\n",
        "\n",
        "Portanto, sua aplicação consiste na:\n",
        "* classificação de elementos;\n",
        "* simplificação dos dados;\n",
        "* identificação das relações entre os elementos.\n",
        "\n",
        "### Exemplos de aplicações\n",
        "* **Psicologia:** onde é utilizada na classificação de pessoas de acordo com seus perfis de personalidade; \n",
        "* **Pesquisa de mercado:** na identificação do posicionamento de produtos em relação aos concorrentes de mercado e na segmentação de clientes de acordo com perfis de consumo;  \n",
        "* **Estudos regionais:** na classificação de cidades, estados de acordo com variáveis físicas, demográficas e econômicas etc.\n",
        "---\n",
        "\n",
        "## 2. Medidas de dissimilaridades e similaridades\n",
        "\n",
        "### Como agrupar os elementos?\n",
        "\n",
        "Os elementos são agrupados conforme suas similaridades (semelhanças) ou dissimilaridades (diferenças). Para definir a semelhança (ou diferença) entre os elementos, é usada uma função de distância.\n",
        "\n",
        "\n",
        "Duas técnicas são geralmente utilizadas para obter as distâncias entre elementos, conforme o tipo de variável:\n",
        "\n",
        "* Medidas de Dissimilaridades => **variáveis quantitativas**;\n",
        "* Coeficientes de similaridade => **variáveis qualitativas**;\n",
        "\n",
        "\n",
        "\n",
        "### I. Medidas de Dissimilaridade (Distância)\n",
        "\n",
        "Suponha que se tenha disponível um conjunto de dados constituído de *n* elementos amostrais, tendo-se medido *p* variáveis aleatórias em cada um deles. O objetivo é agrupar esses elementos em *g* grupos. Para cada elemento amostral *j*, tem-se, portanto, o vetor de medidas $X_j$, definido por:\n",
        "\n",
        "$$X'_j=[X_{j1}, X_{j2}, ... , X_{jp}], \\quad j=1,2,...,n$$\n",
        "\n",
        "\n",
        "Assim, utiliza-se uma das medidas de dissimilaridades ou distância, que quanto menor o seu valor, mais similares são os elementos comparados.\n",
        "\n",
        "Algumas medidas comuns, apropriadas para variáveis quantitativas, são apresentadas a seguir:\n",
        "\n",
        "i. Distância Euclidiana;\n",
        "\n",
        "ii. Distância de Mahalanobis;\n",
        "\n",
        "iii. Distância de Minkowsky.\n",
        "\n",
        "Para maior detalhamento sobre tais distâncias consultar *Applied Multivariate Statistical Analysis* – Johnson, R. & Wichern, D.\n",
        "\n",
        "### Exemplo:\n",
        "Considere o exemplo abaixo para o cálculo da distância euclidiana através do Python.\n",
        "\n",
        "Ex.1: Os dados da tabela a seguir representam a renda mensal (em quantidade de salários mínimos) e a idade de seis indivíduos de uma localidade.\n",
        "\n",
        "\n",
        "Indivíduo | Renda | Idade\n",
        "--- | --- | ---\n",
        "A | 9.6 | 28\n",
        "B | 8.4 | 31\n",
        "C | 2.4 | 42\n",
        "D | 18.2 | 38\n",
        "E | 3.9 | 25\n",
        "F | 6.4 | 41\n",
        "\n",
        "\n",
        "\n",
        "\n",
        "\n",
        "\n",
        "\n"
      ]
    },
    {
      "cell_type": "code",
      "source": [],
      "metadata": {
        "id": "p94TL0bEkhTk"
      },
      "execution_count": null,
      "outputs": []
    },
    {
      "cell_type": "code",
      "metadata": {
        "id": "KSTNiPBQGJFk",
        "outputId": "6d561455-c320-49c3-a602-e2376ac436a4",
        "colab": {
          "base_uri": "https://localhost:8080/",
          "height": 119
        }
      },
      "source": [
        "import numpy as np\n",
        "from scipy import spatial\n",
        "\n",
        "# Criando a matriz do exemplo 1\n",
        "X = np.array([[9.6, 28],\n",
        "             [8.4, 31],\n",
        "             [2.4, 42],\n",
        "             [18.2, 38],\n",
        "             [3.9, 25],\n",
        "             [6.4, 41]])\n",
        "\n",
        "# Criando uma lista com os nomes dos indivíduos\n",
        "individuos = ['A', 'B', 'C', 'D', 'E', 'F']\n",
        "\n",
        "# Calculando as distâncias euclidianas entre as observações no espaço n-dimensional\n",
        "\n",
        "dist = spatial.distance.pdist(X, metric='euclidean')\n",
        "\n",
        "\n",
        "#Convertando o vetor de distância de forma vetorial em uma matriz de distância de forma quadrada.\n",
        "\n",
        "matriz_dist = spatial.distance.squareform(dist).round(2)\n",
        "\n",
        "matriz_dist\n"
      ],
      "execution_count": null,
      "outputs": [
        {
          "output_type": "execute_result",
          "data": {
            "text/plain": [
              "array([[ 0.  ,  3.23, 15.74, 13.19,  6.44, 13.39],\n",
              "       [ 3.23,  0.  , 12.53, 12.04,  7.5 , 10.2 ],\n",
              "       [15.74, 12.53,  0.  , 16.3 , 17.07,  4.12],\n",
              "       [13.19, 12.04, 16.3 ,  0.  , 19.33, 12.18],\n",
              "       [ 6.44,  7.5 , 17.07, 19.33,  0.  , 16.19],\n",
              "       [13.39, 10.2 ,  4.12, 12.18, 16.19,  0.  ]])"
            ]
          },
          "metadata": {
            "tags": []
          },
          "execution_count": 140
        }
      ]
    },
    {
      "cell_type": "markdown",
      "metadata": {
        "id": "K2X4BLfIYArf"
      },
      "source": [
        "As distâncias entre os elementos são armazenadas em uma matriz de distâncias:\n",
        "\n",
        "$$\n",
        "D_{n,n} =\n",
        " \\begin{pmatrix}\n",
        "  0 & d_{1,2} & \\cdots & d_{1,n} \\\\\n",
        "   & 0 & \\cdots & d_{2,n} \\\\\n",
        "    &  & \\ddots & \\vdots  \\\\\n",
        "   &  &  & 0\n",
        " \\end{pmatrix}\n",
        " $$\n",
        " \n",
        " em que $d_{lk}$ representa a distância do elemento *l* ao elemento *k*.\n",
        "\n",
        " ### II. Coeficientes de similaridades\n",
        "\n",
        "Em muitas situações, a pesquisa envolve a análise de variáveis qualitativas. Nestes casos, há duas formas de tratamento: \n",
        "* ou transformam-se estas variáveis para quantitativas e usam-se as\n",
        "medidas de dissimilaridades descritas anteriormente;\n",
        "* ou então trabalha-se com coeficientes de similaridades, especialmente desenvolvidos para variáveis qualitativas.\n",
        "\n",
        "Em geral, comparam-se os elemnetos de acordo com a presença ou ausência de certas características. A presença ou ausência de uma característica num elemento pode ser representada por uma variável binária do tipo 0 ou 1.\n",
        "\n",
        "Alguns coeficientes de similaridade mais comuns para esse tipo de situação são:\n",
        "\n",
        "* coeficiente de concordância simples;\n",
        "* coeficiente de concordância positiva;\n",
        "* coeficiante de *Jaccard*.\n",
        "\n",
        "Para maior detalhamento sobre estes coeficiente e outros, consultar *Applied Multivariate Statistical Analysis* – Johnson, R. & Wichern, D.\n",
        "\n",
        "### Exemplo:\n",
        "Considere o exemplo abaixo para o cálculo do coeficiente de *Jaccard* através do Python.\n",
        "\n",
        "Ex.2: Suponha três elementos com valores para 5 variáveis descritos na tabela abaixo. Genericamente, essas variáves estão associadas a quesitos classificatórios.\n",
        "\n",
        "Variável | X1 | X2 | X3 | X4 | X5\n",
        "--- | --- | --- | --- | --- | ---\n",
        "Elemento 1 | 0 | 1 | 1 | 1 | 1\n",
        "Elemento 2 | 0 | 0 | 1 | 1 | 1\n",
        "Elemento 3 | 0 | 1 | 0 | 1 | 0\n",
        "\n",
        "\n"
      ]
    },
    {
      "cell_type": "code",
      "metadata": {
        "id": "dY7UO-SUOiL8",
        "outputId": "685e4815-ee6f-4fb6-f8bd-352646f6084e",
        "colab": {
          "base_uri": "https://localhost:8080/",
          "height": 68
        }
      },
      "source": [
        "# Criando Ex.2\n",
        "Y = np.array([[0,1,1,1,1],\n",
        "             [0,0,1,1,1],\n",
        "             [0, 1, 0, 1, 0]])\n",
        "\n",
        "elementos = ['I', 'II', 'III']\n",
        "\n",
        "coef= spatial.distance.pdist(Y, metric='jaccard')\n",
        "\n",
        "matriz_coef = spatial.distance.squareform(coef).round(2)\n",
        "\n",
        "matriz_coef"
      ],
      "execution_count": null,
      "outputs": [
        {
          "output_type": "execute_result",
          "data": {
            "text/plain": [
              "array([[0.  , 0.25, 0.5 ],\n",
              "       [0.25, 0.  , 0.75],\n",
              "       [0.5 , 0.75, 0.  ]])"
            ]
          },
          "metadata": {
            "tags": []
          },
          "execution_count": 3
        }
      ]
    },
    {
      "cell_type": "markdown",
      "metadata": {
        "id": "XEIwVUa5Pa0o"
      },
      "source": [
        "Da mesma forma que no caso das distâncias, é criada uma matriz de coeficientes de similaridades, onde estes são armazenados.\n",
        "\n",
        "Existe ainda uma situação bastante comum que é quando se observa *p*-variáveis quantitativas e *q*-variáveis qualitativas.\n",
        "\n",
        "Nessa situação se propõe atribuir valores às variáveis categóricas (*ad hoc*). Em seguida, usa-se uma medida de distância para comparar as *p+q* variáveis. Ou, uma proposta menos usual que é categorizar os valores das variáveis quantitativas e depois usar um coeficiente de similaridade para comparar as *p+q* variáveis.\n",
        "\n",
        "---\n",
        "\n",
        "# 3. Métodos para construção de *Clusters*\n",
        "\n",
        "## Técnicas Hierárquicas\n",
        "Identificam agrupamentos e o provável o número de grupos, por uma série de fusões (técnicas aglomerativas) ou uma série de sucessivas divisões (técnicas divisas).\n",
        "\n",
        "Os resultados de ambos, aglomerativos e divisivos, são observados no **dendograma**, que ilustra as fusões ou divisões feitas em níveis sucessivos. \n",
        "\n",
        "\n",
        "### O passo a passo dos *Clusters* Hierárquicos\n",
        "\n",
        "1.  Inicia com todos os elementos sendo o próprio cluster;\n",
        "2. Usando a medida de similaridade, combina - através de algoritmos de agrupamento - 2 elementos mais semelhantes em um novo cluster, agora contendo 2 itens;\n",
        "3. Repete o procedimento de agrupamento usando a medida de similaridade para combinar os dois itens mais semelhantes ou combinações de itens de outro cluster.\n",
        "4. Continua o processo até que todos os itens estejam em um único cluster.\n",
        "\n",
        "\n",
        "\n",
        "### Algoritmos de Agrupamento\n",
        "\n",
        "Existem vários métodos de agrupamentos hierárquicos. A seguir, serão descritos os métodos mais comuns:\n",
        "\n",
        "1. **Single Linkage**: estruturas geométricas diferentes, mas é incapaz de delinear grupos pouco separados;\n",
        "2. **Average Linkage**: *clusters* de mesma variância interna, produzindo melhores partições;\n",
        "3. **Complete Linkage**: *clusters* de mesmo diâmetro e isolam os *outliers* nos primeiros passos;\n",
        "4. **Método de Ward**: *cluster* com o mesmo número de itens, baseado nos princípios de análise de variância.\n",
        "\n",
        "Para maior detalhamento sobre cada um dos métodos consultar *Applied Multivariate Statistical Analysis* – Johnson, R. & Wichern, D.\n",
        "\n",
        "### Continuação Ex.1\n",
        "\n",
        "Continuando com os dados utilizado no Ex.1, segue abaixo a programação em Python utilizando Clusterização hierárquica, através do algoritmo de ligação de simples (*single linkage*):\n"
      ]
    },
    {
      "cell_type": "code",
      "metadata": {
        "id": "4JpjrKWaxeiC",
        "outputId": "e567567b-0e06-4143-b36c-e123bc2f34d1",
        "colab": {
          "base_uri": "https://localhost:8080/",
          "height": 302
        }
      },
      "source": [
        "from scipy import cluster\n",
        "import matplotlib.pyplot as plt\n",
        "\n",
        "CA = cluster.hierarchy.linkage(X, method='single', metric='euclidean')\n",
        "dend = cluster.hierarchy.dendrogram(CA, labels=individuos)\n",
        "plt.figure()\n",
        "\n"
      ],
      "execution_count": null,
      "outputs": [
        {
          "output_type": "execute_result",
          "data": {
            "text/plain": [
              "<Figure size 432x288 with 0 Axes>"
            ]
          },
          "metadata": {
            "tags": []
          },
          "execution_count": 4
        },
        {
          "output_type": "display_data",
          "data": {
            "image/png": "[encoded data removed]",
            "text/plain": [
              "<Figure size 432x288 with 1 Axes>"
            ]
          },
          "metadata": {
            "tags": []
          }
        },
        {
          "output_type": "display_data",
          "data": {
            "text/plain": [
              "<Figure size 432x288 with 0 Axes>"
            ]
          },
          "metadata": {
            "tags": []
          }
        }
      ]
    },
    {
      "cell_type": "markdown",
      "metadata": {
        "id": "5g98t2dPfg7O"
      },
      "source": [
        "A análise do Dendograma sugere uma partição em 4 grupos. Nesse sentido, em alguns casos pode ser importante para uma melhor visualização fazer a junção dos elementos da base de dados utilizada, com os respectivos *clusters* associados a eles.\n",
        "\n",
        "Cabe observar que não existe um melhor “critério” de agregação hierárquica e a\n",
        "melhor recomendação que se pode fazer é a utilização de vários métodos. Se todos\n",
        "estes produzirem soluções interpretáveis similares, é possível concluir que a matriz dos dados apresenta agrupamentos “naturais”."
      ]
    },
    {
      "cell_type": "code",
      "metadata": {
        "id": "pZv0g77y5wUw",
        "outputId": "633cde64-702c-4ec3-a846-bde3c7ac7a14",
        "colab": {
          "base_uri": "https://localhost:8080/",
          "height": 235
        }
      },
      "source": [
        "import pandas as pd\n",
        "CB = cluster.hierarchy.fclusterdata(X, t=4, criterion = 'maxclust', method='single', metric='euclidean')\n",
        "\n",
        "df1 = pd.DataFrame(X, index=individuos, columns=['Renda','Idade'])\n",
        "df2 = pd.DataFrame(CB, index=individuos, columns=['Cluster'])\n",
        "df = pd.concat([df1, df2], axis=1)\n",
        "\n",
        "df\n"
      ],
      "execution_count": null,
      "outputs": [
        {
          "output_type": "execute_result",
          "data": {
            "text/html": [
              "<div>\n",
              "<style scoped>\n",
              "    .dataframe tbody tr th:only-of-type {\n",
              "        vertical-align: middle;\n",
              "    }\n",
              "\n",
              "    .dataframe tbody tr th {\n",
              "        vertical-align: top;\n",
              "    }\n",
              "\n",
              "    .dataframe thead th {\n",
              "        text-align: right;\n",
              "    }\n",
              "</style>\n",
              "<table border=\"1\" class=\"dataframe\">\n",
              "  <thead>\n",
              "    <tr style=\"text-align: right;\">\n",
              "      <th></th>\n",
              "      <th>Renda</th>\n",
              "      <th>Idade</th>\n",
              "      <th>Cluster</th>\n",
              "    </tr>\n",
              "  </thead>\n",
              "  <tbody>\n",
              "    <tr>\n",
              "      <th>A</th>\n",
              "      <td>9.6</td>\n",
              "      <td>28.0</td>\n",
              "      <td>2</td>\n",
              "    </tr>\n",
              "    <tr>\n",
              "      <th>B</th>\n",
              "      <td>8.4</td>\n",
              "      <td>31.0</td>\n",
              "      <td>2</td>\n",
              "    </tr>\n",
              "    <tr>\n",
              "      <th>C</th>\n",
              "      <td>2.4</td>\n",
              "      <td>42.0</td>\n",
              "      <td>1</td>\n",
              "    </tr>\n",
              "    <tr>\n",
              "      <th>D</th>\n",
              "      <td>18.2</td>\n",
              "      <td>38.0</td>\n",
              "      <td>4</td>\n",
              "    </tr>\n",
              "    <tr>\n",
              "      <th>E</th>\n",
              "      <td>3.9</td>\n",
              "      <td>25.0</td>\n",
              "      <td>3</td>\n",
              "    </tr>\n",
              "    <tr>\n",
              "      <th>F</th>\n",
              "      <td>6.4</td>\n",
              "      <td>41.0</td>\n",
              "      <td>1</td>\n",
              "    </tr>\n",
              "  </tbody>\n",
              "</table>\n",
              "</div>"
            ],
            "text/plain": [
              "   Renda  Idade  Cluster\n",
              "A    9.6   28.0        2\n",
              "B    8.4   31.0        2\n",
              "C    2.4   42.0        1\n",
              "D   18.2   38.0        4\n",
              "E    3.9   25.0        3\n",
              "F    6.4   41.0        1"
            ]
          },
          "metadata": {
            "tags": []
          },
          "execution_count": 21
        }
      ]
    },
    {
      "cell_type": "code",
      "metadata": {
        "id": "XkjFzHQ7g8JZ",
        "outputId": "0c1ccdd1-c941-433d-d71b-68142cf78c4f",
        "colab": {
          "base_uri": "https://localhost:8080/",
          "height": 369
        }
      },
      "source": [
        "import seaborn as sns\n",
        "fig = sns.lmplot(x='Renda', y='Idade', data=df, hue='Cluster', fit_reg=False)\n",
        "plt.show()"
      ],
      "execution_count": null,
      "outputs": [
        {
          "output_type": "display_data",
          "data": {
            "image/png": "[encoded data removed]",
            "text/plain": [
              "<Figure size 403.5x360 with 1 Axes>"
            ]
          },
          "metadata": {
            "tags": []
          }
        }
      ]
    },
    {
      "cell_type": "markdown",
      "metadata": {
        "id": "iWlvPeBOLXNA"
      },
      "source": [
        "## Desvantagens\n",
        "\n",
        "* Todas as técnicas seguem um algoritmo básico, porém com seus critérios (métricas). Na maioria delas as variações não são tratadas.\n",
        "* Não aponta os itens agrupados incorretamente em um estágio anterior.\n",
        "\n",
        "## Técnicas para a partição final\n",
        "\n",
        "Uma questão importante é em que passo *k* o algoritmo deve ser interrompido obtendo-se um número *g* de clusters. Não existe resposta para esta pergunta, porém, podem-se aplicar alguns critérios.\n",
        "\n",
        "* Análise do comportamento do nível de fusão;\n",
        "* Análise do comportamento do nível de similaridade;\n",
        "* Análise da soma de quadrados entre grupos ( Coeficiente $R^2$);\n",
        "* Estatística Pseudo F (Calinski e Harabasz);\n",
        "\n"
      ]
    },
    {
      "cell_type": "code",
      "metadata": {
        "id": "pjukAvqRIXB4",
        "outputId": "45ae4d0d-b406-428a-d275-9b4f768e18cb",
        "colab": {
          "base_uri": "https://localhost:8080/",
          "height": 34
        }
      },
      "source": [
        "from sklearn import metrics\n",
        "metrics.calinski_harabasz_score(X, CB) "
      ],
      "execution_count": null,
      "outputs": [
        {
          "output_type": "execute_result",
          "data": {
            "text/plain": [
              "19.36192095885973"
            ]
          },
          "metadata": {
            "tags": []
          },
          "execution_count": 48
        }
      ]
    },
    {
      "cell_type": "markdown",
      "metadata": {
        "id": "fXNuVstDY_bR"
      },
      "source": [
        "## Técnicas não-hierárquicas (K-Means)\n",
        "\n",
        "### Diferenças\n",
        "* Definição prévia do número de *clusters*;\n",
        "* Em cada estágio, novos *clusters* podem ser formados por divisão ou junção de *clusters* inicialmente definidos, sem dendogramas;\n",
        "* Os algoritmos são iterativos e têm uma maior capacidade de análise do conjunto de dados.\n",
        "\n",
        "### Passo-a-passo\n",
        "\n",
        "Cada item é alocado para um *cluster* que tem um centroide mais próximo (média). Passos:\n",
        "1. escolher k centroides (sementes) para iniciar o processo de partição;\n",
        "2. comparar cada item com o centroide inicial por uma distância (por exemplo, Euclidiana). Os itens são alocados aos *clusters* pelo *min d(.)*;\n",
        "3. após a alocação dos n itens, recalcular os centroides para cada novo *cluster* formado, repetindo o segundo passo com estes novos centroides;\n",
        "4. repetir os passos 2 e 3 até que todos os elementos estejam bem alocados em seus grupos.\n",
        "\n",
        "\n",
        "\n"
      ]
    },
    {
      "cell_type": "code",
      "metadata": {
        "id": "rLB71safuZLw",
        "outputId": "e5445a3f-c80d-4145-a72a-42ab01119dfb",
        "colab": {
          "base_uri": "https://localhost:8080/",
          "height": 235
        }
      },
      "source": [
        "from sklearn.cluster import KMeans\n",
        "kmeans = KMeans(n_clusters=4).fit(X)\n",
        "\n",
        "df_kmeans = pd.DataFrame(kmeans.labels_, index=individuos, columns=['cluster'])\n",
        "df_kmeans = pd.concat([df1, df_kmeans], axis=1)\n",
        "df_kmeans"
      ],
      "execution_count": null,
      "outputs": [
        {
          "output_type": "execute_result",
          "data": {
            "text/html": [
              "<div>\n",
              "<style scoped>\n",
              "    .dataframe tbody tr th:only-of-type {\n",
              "        vertical-align: middle;\n",
              "    }\n",
              "\n",
              "    .dataframe tbody tr th {\n",
              "        vertical-align: top;\n",
              "    }\n",
              "\n",
              "    .dataframe thead th {\n",
              "        text-align: right;\n",
              "    }\n",
              "</style>\n",
              "<table border=\"1\" class=\"dataframe\">\n",
              "  <thead>\n",
              "    <tr style=\"text-align: right;\">\n",
              "      <th></th>\n",
              "      <th>Renda</th>\n",
              "      <th>Idade</th>\n",
              "      <th>cluster</th>\n",
              "    </tr>\n",
              "  </thead>\n",
              "  <tbody>\n",
              "    <tr>\n",
              "      <th>A</th>\n",
              "      <td>9.6</td>\n",
              "      <td>28.0</td>\n",
              "      <td>3</td>\n",
              "    </tr>\n",
              "    <tr>\n",
              "      <th>B</th>\n",
              "      <td>8.4</td>\n",
              "      <td>31.0</td>\n",
              "      <td>3</td>\n",
              "    </tr>\n",
              "    <tr>\n",
              "      <th>C</th>\n",
              "      <td>2.4</td>\n",
              "      <td>42.0</td>\n",
              "      <td>2</td>\n",
              "    </tr>\n",
              "    <tr>\n",
              "      <th>D</th>\n",
              "      <td>18.2</td>\n",
              "      <td>38.0</td>\n",
              "      <td>0</td>\n",
              "    </tr>\n",
              "    <tr>\n",
              "      <th>E</th>\n",
              "      <td>3.9</td>\n",
              "      <td>25.0</td>\n",
              "      <td>1</td>\n",
              "    </tr>\n",
              "    <tr>\n",
              "      <th>F</th>\n",
              "      <td>6.4</td>\n",
              "      <td>41.0</td>\n",
              "      <td>2</td>\n",
              "    </tr>\n",
              "  </tbody>\n",
              "</table>\n",
              "</div>"
            ],
            "text/plain": [
              "   Renda  Idade  cluster\n",
              "A    9.6   28.0        3\n",
              "B    8.4   31.0        3\n",
              "C    2.4   42.0        2\n",
              "D   18.2   38.0        0\n",
              "E    3.9   25.0        1\n",
              "F    6.4   41.0        2"
            ]
          },
          "metadata": {
            "tags": []
          },
          "execution_count": 144
        }
      ]
    },
    {
      "cell_type": "code",
      "metadata": {
        "id": "LUSye2oa42dv",
        "outputId": "948cff69-8737-4596-c7b5-dff9d273568b",
        "colab": {
          "base_uri": "https://localhost:8080/",
          "height": 369
        }
      },
      "source": [
        "fig = sns.lmplot(x='Renda', y='Idade', data=df_kmeans, hue='cluster', fit_reg=False)\n",
        "plt.show()"
      ],
      "execution_count": null,
      "outputs": [
        {
          "output_type": "display_data",
          "data": {
            "image/png": "[encoded data removed]",
            "text/plain": [
              "<Figure size 402.375x360 with 1 Axes>"
            ]
          },
          "metadata": {
            "tags": []
          }
        }
      ]
    },
    {
      "cell_type": "code",
      "metadata": {
        "id": "8_Wqqj2R8hUl",
        "outputId": "635e40a8-fd4f-49d5-8ff5-079608bb90af",
        "colab": {
          "base_uri": "https://localhost:8080/",
          "height": 34
        }
      },
      "source": [
        "metrics.calinski_harabasz_score(X, kmeans.labels_) "
      ],
      "execution_count": null,
      "outputs": [
        {
          "output_type": "execute_result",
          "data": {
            "text/plain": [
              "19.36192095885973"
            ]
          },
          "metadata": {
            "tags": []
          },
          "execution_count": 145
        }
      ]
    },
    {
      "cell_type": "markdown",
      "metadata": {
        "id": "Y5OifMDu9c2I"
      },
      "source": [
        "# Referências\n",
        "\n",
        "* CHEN, Daniel Y. **Análise de dados com Python e Pandas**. São Paulo: Novatec, 2018.\n",
        "* JOHNSON, R. A. & WICHERN, W. W. **Applied multivariate statistical analysis**. New Jersey:Prentice Hall, 2002.\n",
        "\n"
      ]
    }
  ]
}